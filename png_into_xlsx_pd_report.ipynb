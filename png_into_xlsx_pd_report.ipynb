{
 "cells": [
  {
   "cell_type": "code",
   "execution_count": null,
   "metadata": {},
   "outputs": [],
   "source": [
    "import pandas as pd\n",
    "import os\n",
    "import numpy as np\n",
    "import io\n",
    "from PIL import Image\n",
    "import random"
   ]
  },
  {
   "cell_type": "code",
   "execution_count": null,
   "metadata": {},
   "outputs": [],
   "source": [
    "NAME_FILE = 'example.csv'"
   ]
  },
  {
   "cell_type": "code",
   "execution_count": null,
   "metadata": {},
   "outputs": [],
   "source": [
    "if not os.path.exists('DATA'):\n",
    "    os.mkdir('DATA')\n",
    "with open(os.path.join('DATA', NAME_FILE), 'w') as f:\n",
    "    f.writelines(['COL_NAME\\n']+[''.join([str(random.randint(0, 9)) for x in range(10)])+'DDDD\\n' for _ in range(100000)])"
   ]
  },
  {
   "cell_type": "code",
   "execution_count": null,
   "metadata": {},
   "outputs": [],
   "source": [
    "# For this example, read CSV-file with one column\n",
    "df = pd.read_csv(os.path.join('DATA', NAME_FILE))\n",
    "\n",
    "# Сhange the name of the original column\n",
    "NEW_NAME = 'KEY16'\n",
    "df.columns = [NEW_NAME]\n",
    "\n",
    "NAME_COLUMNS = [f'col_{x}' for x in range(10)]"
   ]
  },
  {
   "cell_type": "code",
   "execution_count": null,
   "metadata": {},
   "outputs": [],
   "source": [
    "# Add columns in DataFrame\n",
    "for i, x in enumerate(NAME_COLUMNS): \n",
    "    df[x] = df[['KEY16']].apply(lambda row: row.KEY16[i:i+1], axis = 1)"
   ]
  },
  {
   "cell_type": "code",
   "execution_count": null,
   "metadata": {},
   "outputs": [],
   "source": [
    "# Select all unique values from DataFrame\n",
    "uniq_values = np.unique(df[NAME_COLUMNS].values)"
   ]
  },
  {
   "cell_type": "code",
   "execution_count": null,
   "metadata": {},
   "outputs": [],
   "source": [
    "# Count of unique values for each column\n",
    "dict_sum_value = {col_name:[sum(df[col_name] == value) for value in uniq_values] for col_name in NAME_COLUMNS}\n",
    "\n",
    "df2 = pd.DataFrame(dict_sum_value, index = uniq_values)\n",
    "df2"
   ]
  },
  {
   "cell_type": "code",
   "execution_count": null,
   "metadata": {},
   "outputs": [],
   "source": [
    "writer = pd.ExcelWriter('report.xlsx', engine='xlsxwriter')\n",
    "df2.to_excel(writer)\n",
    "\n",
    "workbook = writer.book\n",
    "worksheet_original = writer.sheets['Sheet1']\n",
    "\n",
    "for i, name in enumerate(NAME_COLUMNS):\n",
    "    buf = io.BytesIO()\n",
    "    \n",
    "    ax = df2.reset_index().plot(x='index', y=name, kind='bar', rot=0)\n",
    "    ax.xaxis.set_label_text('')\n",
    "    ax.figure.savefig(buf, format='png')\n",
    "    \n",
    "    buf.seek(0)\n",
    "    im = Image.open(buf)\n",
    "\n",
    "    worksheet_original.insert_image(f'A{15 + i *20}', f'image_{name}.png', {'image_data':buf})\n",
    "    # im.show()\n",
    "    \n",
    "writer.save()\n",
    "workbook.close()\n",
    "buf.close()"
   ]
  }
 ],
 "metadata": {
  "kernelspec": {
   "display_name": "Python 3",
   "language": "python",
   "name": "python3"
  },
  "language_info": {
   "codemirror_mode": {
    "name": "ipython",
    "version": 3
   },
   "file_extension": ".py",
   "mimetype": "text/x-python",
   "name": "python",
   "nbconvert_exporter": "python",
   "pygments_lexer": "ipython3",
   "version": "3.7.9"
  }
 },
 "nbformat": 4,
 "nbformat_minor": 4
}
