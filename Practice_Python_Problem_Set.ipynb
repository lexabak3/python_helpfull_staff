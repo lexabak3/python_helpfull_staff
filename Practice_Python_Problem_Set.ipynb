{
 "cells": [
  {
   "cell_type": "markdown",
   "id": "political-praise",
   "metadata": {},
   "source": [
    "# 1"
   ]
  },
  {
   "cell_type": "code",
   "execution_count": 14,
   "id": "induced-clothing",
   "metadata": {},
   "outputs": [],
   "source": [
    "def sum(a, b):\n",
    "    tmp_sum = 0\n",
    "    for x in [x**2 for x in range(a,b+1)]:\n",
    "        tmp_sum += x\n",
    "    return tmp_sum"
   ]
  },
  {
   "cell_type": "markdown",
   "id": "accepted-florida",
   "metadata": {},
   "source": [
    "# 2"
   ]
  },
  {
   "cell_type": "code",
   "execution_count": 16,
   "id": "early-specific",
   "metadata": {},
   "outputs": [],
   "source": [
    "def triangel(a,b,c):\n",
    "    list_sied = sorted([a,b,c])\n",
    "    if list_sied[-1]**2 == list_sied[-2]**2 + list_sied[-3]**2:\n",
    "        return True\n",
    "    else:\n",
    "        return False"
   ]
  },
  {
   "cell_type": "markdown",
   "id": "assumed-committee",
   "metadata": {},
   "source": [
    "# 3"
   ]
  },
  {
   "cell_type": "code",
   "execution_count": 46,
   "id": "front-alloy",
   "metadata": {},
   "outputs": [
    {
     "data": {
      "image/png": "[encoded data removed]",
      "text/plain": [
       "<Figure size 432x288 with 1 Axes>"
      ]
     },
     "metadata": {
      "needs_background": "light"
     },
     "output_type": "display_data"
    }
   ],
   "source": [
    "import matplotlib.pyplot as plt\n",
    "import numpy as np\n",
    "\n",
    "# Data for plotting\n",
    "list_x = [x/10 for x in range(-10,11,)]\n",
    "list_y = [4*x**2-1 for x in list_x]\n",
    "list_z = [2*x for x in list_x]\n",
    "\n",
    "fig, ax = plt.subplots()\n",
    "ax.plot(list_x, list_y, color='red',label='y(x)')\n",
    "ax.plot(list_x, list_z, color='green',label='z(x)')\n",
    "\n",
    "\n",
    "ax.set(xlabel='x', ylabel='y',\n",
    "       title='Figure for Problem №3')\n",
    "ax.grid()\n",
    "ax.legend()\n",
    "\n",
    "plt.show()"
   ]
  },
  {
   "cell_type": "markdown",
   "id": "excess-training",
   "metadata": {},
   "source": [
    "# 4"
   ]
  },
  {
   "cell_type": "code",
   "execution_count": 55,
   "id": "right-grass",
   "metadata": {},
   "outputs": [
    {
     "name": "stdout",
     "output_type": "stream",
     "text": [
      "First int: 4\n",
      "Second int: 12\n",
      "Congratulations\n"
     ]
    }
   ],
   "source": [
    "try:\n",
    "    a = int(input('First int: '))\n",
    "    b = int(input('Second int: '))\n",
    "    if a%b == 0 or b%a == 0:\n",
    "        print('Congratulations')\n",
    "    else:\n",
    "        print('Sorry')\n",
    "except ValueError:\n",
    "    print(\"Oops!  That was no valid number.  Try again...\")"
   ]
  },
  {
   "cell_type": "markdown",
   "id": "sunrise-germany",
   "metadata": {},
   "source": [
    "# 5 (a)"
   ]
  },
  {
   "cell_type": "code",
   "execution_count": 60,
   "id": "smoking-lexington",
   "metadata": {},
   "outputs": [
    {
     "name": "stdout",
     "output_type": "stream",
     "text": [
      "[1, 2, 3, 4, 5, 6, 7, 8, 9, 10]\n",
      "[1, 55, 3, 55, 5, 55, 7, 55, 9, 55]\n"
     ]
    }
   ],
   "source": [
    "v = [x for x in range(1,11)]\n",
    "v2 = []\n",
    "for x in v:\n",
    "    if x%2 == 0:\n",
    "        v2.append(55)\n",
    "    else:\n",
    "        v2.append(x)\n",
    "print(v)        \n",
    "print(v2)"
   ]
  },
  {
   "cell_type": "markdown",
   "id": "damaged-uganda",
   "metadata": {},
   "source": [
    "# 5 (b)"
   ]
  },
  {
   "cell_type": "code",
   "execution_count": 69,
   "id": "compressed-demand",
   "metadata": {},
   "outputs": [
    {
     "name": "stdout",
     "output_type": "stream",
     "text": [
      "   1   2   0\n",
      "   5   4  -2\n",
      "  -1   0  -2\n",
      "\n",
      "   1   2   0\n",
      "   5   4   0\n",
      "   0   0   0\n"
     ]
    }
   ],
   "source": [
    "def prety_print_matrix(A):\n",
    "    print('\\n'.join([''.join(['{:4}'.format(item) for item in row]) for row in A]))\n",
    "    \n",
    "\n",
    "m = [[1,2,0],[5,4,-2],[-1,0,-2]]\n",
    "m2 = []\n",
    "for row in m:\n",
    "    m2.append([])\n",
    "    m2[-1] = []\n",
    "    for x in row:\n",
    "        if x < 0:\n",
    "            m2[-1].append(0)\n",
    "        else:\n",
    "            m2[-1].append(x)\n",
    "\n",
    "prety_print_matrix(m)\n",
    "print('')\n",
    "prety_print_matrix(m2)"
   ]
  }
 ],
 "metadata": {
  "kernelspec": {
   "display_name": "Python 3",
   "language": "python",
   "name": "python3"
  },
  "language_info": {
   "codemirror_mode": {
    "name": "ipython",
    "version": 3
   },
   "file_extension": ".py",
   "mimetype": "text/x-python",
   "name": "python",
   "nbconvert_exporter": "python",
   "pygments_lexer": "ipython3",
   "version": "3.7.9"
  }
 },
 "nbformat": 4,
 "nbformat_minor": 5
}
